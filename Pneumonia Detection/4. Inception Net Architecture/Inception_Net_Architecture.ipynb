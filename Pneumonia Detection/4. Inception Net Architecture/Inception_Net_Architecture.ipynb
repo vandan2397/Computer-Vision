{
  "nbformat": 4,
  "nbformat_minor": 0,
  "metadata": {
    "colab": {
      "name": "Inception Net Architecture.ipynb",
      "provenance": [],
      "collapsed_sections": []
    },
    "kernelspec": {
      "name": "python3",
      "display_name": "Python 3"
    },
    "language_info": {
      "name": "python"
    },
    "accelerator": "GPU"
  },
  "cells": [
    {
      "cell_type": "markdown",
      "metadata": {
        "id": "Ebuw82PN_JjV"
      },
      "source": [
        "<h1> Pnuemonia Detection using Inception NeT Architecture\n",
        "\n",
        "\n"
      ]
    },
    {
      "cell_type": "code",
      "metadata": {
        "id": "Zz1B71Yq1vGA"
      },
      "source": [
        "# Import Libraries\n",
        "\n",
        "from keras.layers import Input, Lambda, Dense, Flatten\n",
        "from keras.models import Model\n",
        "from tensorflow.keras.applications.inception_v3 import InceptionV3\n",
        "from keras.preprocessing import image\n",
        "from keras.preprocessing.image import ImageDataGenerator\n",
        "from keras.layers import BatchNormalization\n",
        "from keras.layers import GlobalAveragePooling2D\n",
        "from keras.preprocessing.image import img_to_array\n",
        "from keras.models import Sequential\n",
        "import numpy as np\n",
        "import pandas as pd\n",
        "import keras\n",
        "import os\n",
        "from glob import glob\n",
        "from keras.layers import Dropout\n",
        "import matplotlib.pyplot as plt"
      ],
      "execution_count": 2,
      "outputs": []
    },
    {
      "cell_type": "code",
      "metadata": {
        "colab": {
          "base_uri": "https://localhost:8080/"
        },
        "id": "fB19TojE32gW",
        "outputId": "e6b284d4-6ee7-4382-9521-284752af0902"
      },
      "source": [
        "# Mount drive\n",
        "from google.colab import drive\n",
        "drive.mount('/content/drive')"
      ],
      "execution_count": 6,
      "outputs": [
        {
          "output_type": "stream",
          "text": [
            "Mounted at /content/drive\n"
          ],
          "name": "stdout"
        }
      ]
    },
    {
      "cell_type": "code",
      "metadata": {
        "colab": {
          "base_uri": "https://localhost:8080/"
        },
        "id": "vH_n61k_3ONH",
        "outputId": "95ea8ea5-ded5-42fe-aa6a-0679b391f7a8"
      },
      "source": [
        "inception_model = InceptionV3(weights='imagenet', include_top=False, input_shape=(256, 256, 3))"
      ],
      "execution_count": null,
      "outputs": [
        {
          "output_type": "stream",
          "text": [
            "Downloading data from https://storage.googleapis.com/tensorflow/keras-applications/inception_v3/inception_v3_weights_tf_dim_ordering_tf_kernels_notop.h5\n",
            "87916544/87910968 [==============================] - 1s 0us/step\n"
          ],
          "name": "stdout"
        }
      ]
    },
    {
      "cell_type": "code",
      "metadata": {
        "id": "wga_OXRj3R-L"
      },
      "source": [
        "# Making layers not trainable\n",
        "for layer in inception_model.layers:\n",
        "    if isinstance(layer, BatchNormalization):\n",
        "        layer.trainable = True\n",
        "    else:\n",
        "        layer.trainable = False"
      ],
      "execution_count": null,
      "outputs": []
    },
    {
      "cell_type": "code",
      "metadata": {
        "id": "oE5ybET99WkX"
      },
      "source": [
        "\n",
        "model = Sequential()\n",
        "model.add(inception_model)\n",
        "model.add(GlobalAveragePooling2D())\n",
        "model.add(Dense(256, activation='relu'))\n",
        "model.add(Dropout(.25))\n",
        "model.add(BatchNormalization())\n",
        "model.add(Flatten())\n",
        "model.add(Dense(2, activation='softmax'))"
      ],
      "execution_count": null,
      "outputs": []
    },
    {
      "cell_type": "code",
      "metadata": {
        "id": "Sn50P7Am3hqr"
      },
      "source": [
        "# tell the model what cost and optimization method to use\n",
        "model.compile(\n",
        "  loss='categorical_crossentropy',\n",
        "  optimizer='adam',\n",
        "  metrics=['accuracy']\n",
        ")"
      ],
      "execution_count": null,
      "outputs": []
    },
    {
      "cell_type": "code",
      "metadata": {
        "colab": {
          "base_uri": "https://localhost:8080/"
        },
        "id": "jtUGZW01J5C6",
        "outputId": "a1e04566-4698-4bfa-f20d-c2514d9f7693"
      },
      "source": [
        "model.summary()"
      ],
      "execution_count": null,
      "outputs": [
        {
          "output_type": "stream",
          "text": [
            "Model: \"sequential\"\n",
            "_________________________________________________________________\n",
            "Layer (type)                 Output Shape              Param #   \n",
            "=================================================================\n",
            "inception_v3 (Functional)    (None, 6, 6, 2048)        21802784  \n",
            "_________________________________________________________________\n",
            "global_average_pooling2d (Gl (None, 2048)              0         \n",
            "_________________________________________________________________\n",
            "dense (Dense)                (None, 256)               524544    \n",
            "_________________________________________________________________\n",
            "dropout (Dropout)            (None, 256)               0         \n",
            "_________________________________________________________________\n",
            "batch_normalization_94 (Batc (None, 256)               1024      \n",
            "_________________________________________________________________\n",
            "flatten (Flatten)            (None, 256)               0         \n",
            "_________________________________________________________________\n",
            "dense_1 (Dense)              (None, 2)                 514       \n",
            "=================================================================\n",
            "Total params: 22,328,866\n",
            "Trainable params: 542,786\n",
            "Non-trainable params: 21,786,080\n",
            "_________________________________________________________________\n"
          ],
          "name": "stdout"
        }
      ]
    },
    {
      "cell_type": "code",
      "metadata": {
        "id": "hOFB1UewOI6R"
      },
      "source": [
        "#Add checkpoints \n",
        "from keras.callbacks import ModelCheckpoint, EarlyStopping\n",
        "#filepath='saved_models/models.h5'\n",
        "#filepath=\"saved_models/weights-improvement-{epoch:02d}-{val_acc:.2f}.hdf5\" #File name includes epoch and validation accuracy.\n",
        "filepath=\"/content/drive/MyDrive/Deep Learning/Pnuemonia Detection Project/Best_model_resnet.hdf5\" #File name includes epoch and validation accuracy.\n",
        "\n",
        "checkpoint = ModelCheckpoint(filepath, monitor='val_acc', verbose=1, save_best_only=True, mode='max')\n",
        "\n",
        "#early_stop = EarlyStopping(monitor='val_loss',patience=5,verbose=1)\n",
        "\n",
        "callbacks_list = [checkpoint]"
      ],
      "execution_count": null,
      "outputs": []
    },
    {
      "cell_type": "code",
      "metadata": {
        "id": "WqDBqYktFU9O",
        "colab": {
          "base_uri": "https://localhost:8080/"
        },
        "outputId": "4c7f4148-9d9d-49ee-ec1e-57840042adfe"
      },
      "source": [
        "from keras.preprocessing.image import ImageDataGenerator\n",
        "\n",
        "# Generating train and test Dataset\n",
        "train_datagen = ImageDataGenerator(rescale = 1./255,shear_range = 0.2,\n",
        "                                   zoom_range = 0.2,\n",
        "                                   horizontal_flip = True)\n",
        "test_datagen = ImageDataGenerator(rescale = 1./255)\n",
        "\n",
        "# File path\n",
        "path1 = '/content/drive/MyDrive/CNN/Data/train'\n",
        "path2 = '/content/drive/MyDrive/CNN/Data/test'\n",
        "\n",
        "# Procesing images before training \n",
        "training_set = train_datagen.flow_from_directory(path1,\n",
        "                                                 target_size = (256, 256),\n",
        "                                                 batch_size =32 ,\n",
        "                                                 class_mode = 'categorical')\n",
        "\n",
        "test_set = test_datagen.flow_from_directory(path2,\n",
        "                                            target_size = (256, 256),\n",
        "                                            batch_size = 32,\n",
        "                                            class_mode = 'categorical')"
      ],
      "execution_count": 15,
      "outputs": [
        {
          "output_type": "stream",
          "text": [
            "Found 5216 images belonging to 2 classes.\n",
            "Found 624 images belonging to 2 classes.\n"
          ],
          "name": "stdout"
        }
      ]
    },
    {
      "cell_type": "code",
      "metadata": {
        "colab": {
          "base_uri": "https://localhost:8080/"
        },
        "id": "e_WHkTIJUg24",
        "outputId": "78db60dd-f588-4646-f4ad-a3ed43a69bd8"
      },
      "source": [
        "# Model Fit\n",
        "history = model.fit_generator(training_set,\n",
        "                         steps_per_epoch = 163,\n",
        "                         epochs = 20,\n",
        "                         validation_data = test_set,    \n",
        "                         validation_steps = 19)"
      ],
      "execution_count": null,
      "outputs": [
        {
          "output_type": "stream",
          "text": [
            "/usr/local/lib/python3.7/dist-packages/tensorflow/python/keras/engine/training.py:1844: UserWarning: `Model.fit_generator` is deprecated and will be removed in a future version. Please use `Model.fit`, which supports generators.\n",
            "  warnings.warn('`Model.fit_generator` is deprecated and '\n"
          ],
          "name": "stderr"
        },
        {
          "output_type": "stream",
          "text": [
            "Epoch 1/20\n",
            "163/163 [==============================] - 169s 1s/step - loss: 0.1650 - accuracy: 0.9454 - val_loss: 0.2842 - val_accuracy: 0.8717\n",
            "Epoch 2/20\n",
            "163/163 [==============================] - 168s 1s/step - loss: 0.1137 - accuracy: 0.9609 - val_loss: 0.2882 - val_accuracy: 0.8750\n",
            "Epoch 3/20\n",
            "163/163 [==============================] - 166s 1s/step - loss: 0.1060 - accuracy: 0.9588 - val_loss: 0.3718 - val_accuracy: 0.9062\n",
            "Epoch 4/20\n",
            "163/163 [==============================] - 173s 1s/step - loss: 0.1024 - accuracy: 0.9613 - val_loss: 0.3642 - val_accuracy: 0.9013\n",
            "Epoch 5/20\n",
            "163/163 [==============================] - 175s 1s/step - loss: 0.0966 - accuracy: 0.9651 - val_loss: 0.4102 - val_accuracy: 0.8553\n",
            "Epoch 6/20\n",
            "163/163 [==============================] - 174s 1s/step - loss: 0.1002 - accuracy: 0.9651 - val_loss: 0.2696 - val_accuracy: 0.9062\n",
            "Epoch 7/20\n",
            "163/163 [==============================] - 173s 1s/step - loss: 0.0971 - accuracy: 0.9643 - val_loss: 0.2394 - val_accuracy: 0.9062\n",
            "Epoch 8/20\n",
            "163/163 [==============================] - 175s 1s/step - loss: 0.0905 - accuracy: 0.9661 - val_loss: 0.2417 - val_accuracy: 0.9030\n",
            "Epoch 9/20\n",
            "163/163 [==============================] - 176s 1s/step - loss: 0.0810 - accuracy: 0.9707 - val_loss: 0.2520 - val_accuracy: 0.9145\n",
            "Epoch 10/20\n",
            "163/163 [==============================] - 177s 1s/step - loss: 0.0840 - accuracy: 0.9701 - val_loss: 0.2571 - val_accuracy: 0.9178\n",
            "Epoch 11/20\n",
            "163/163 [==============================] - 178s 1s/step - loss: 0.0796 - accuracy: 0.9678 - val_loss: 0.2460 - val_accuracy: 0.9178\n",
            "Epoch 12/20\n",
            "163/163 [==============================] - 178s 1s/step - loss: 0.0767 - accuracy: 0.9724 - val_loss: 0.3610 - val_accuracy: 0.8766\n",
            "Epoch 13/20\n",
            "163/163 [==============================] - 180s 1s/step - loss: 0.0701 - accuracy: 0.9747 - val_loss: 0.2980 - val_accuracy: 0.8997\n",
            "Epoch 14/20\n",
            "163/163 [==============================] - 175s 1s/step - loss: 0.0836 - accuracy: 0.9695 - val_loss: 0.3736 - val_accuracy: 0.8586\n",
            "Epoch 15/20\n",
            "163/163 [==============================] - 174s 1s/step - loss: 0.0716 - accuracy: 0.9716 - val_loss: 0.3076 - val_accuracy: 0.9030\n",
            "Epoch 16/20\n",
            "163/163 [==============================] - 173s 1s/step - loss: 0.0672 - accuracy: 0.9745 - val_loss: 0.2383 - val_accuracy: 0.9128\n",
            "Epoch 17/20\n",
            "163/163 [==============================] - 172s 1s/step - loss: 0.0709 - accuracy: 0.9762 - val_loss: 0.2580 - val_accuracy: 0.9030\n",
            "Epoch 18/20\n",
            "163/163 [==============================] - 172s 1s/step - loss: 0.0774 - accuracy: 0.9734 - val_loss: 0.2456 - val_accuracy: 0.9161\n",
            "Epoch 19/20\n",
            "163/163 [==============================] - 175s 1s/step - loss: 0.0716 - accuracy: 0.9739 - val_loss: 0.3917 - val_accuracy: 0.8849\n",
            "Epoch 20/20\n",
            "163/163 [==============================] - 172s 1s/step - loss: 0.0621 - accuracy: 0.9776 - val_loss: 0.3130 - val_accuracy: 0.9013\n"
          ],
          "name": "stdout"
        }
      ]
    },
    {
      "cell_type": "code",
      "metadata": {
        "colab": {
          "base_uri": "https://localhost:8080/",
          "height": 283
        },
        "id": "QnyJ_NeOUjoU",
        "outputId": "1381be57-ed55-4520-b564-22069f220571"
      },
      "source": [
        "# plot the loss\n",
        "plt.plot(history.history['loss'], label='train loss')\n",
        "plt.plot(history.history['val_loss'], label='val loss')\n",
        "plt.legend()\n",
        "plt.show()\n",
        "plt.savefig('/content/drive/MyDrive/CNN/LossVal_loss_inception_20_2')"
      ],
      "execution_count": null,
      "outputs": [
        {
          "output_type": "display_data",
          "data": {
            "image/png": "[encoded data removed]",
            "text/plain": [
              "<Figure size 432x288 with 1 Axes>"
            ]
          },
          "metadata": {
            "tags": [],
            "needs_background": "light"
          }
        },
        {
          "output_type": "display_data",
          "data": {
            "text/plain": [
              "<Figure size 432x288 with 0 Axes>"
            ]
          },
          "metadata": {
            "tags": []
          }
        }
      ]
    },
    {
      "cell_type": "code",
      "metadata": {
        "colab": {
          "base_uri": "https://localhost:8080/",
          "height": 283
        },
        "id": "O3Bt5GRqUnyP",
        "outputId": "83ce9b11-ab56-4e22-979e-45b670d7f6eb"
      },
      "source": [
        "# plot the accuracy\n",
        "plt.plot(history.history['accuracy'], label='train acc')\n",
        "plt.plot(history.history['val_accuracy'], label='val acc')\n",
        "plt.legend()\n",
        "plt.show()\n",
        "plt.savefig('/content/drive/MyDrive/CNN/AccVal_acc_incpetion_20_eps_2')"
      ],
      "execution_count": null,
      "outputs": [
        {
          "output_type": "display_data",
          "data": {
            "image/png": "[encoded data removed]",
            "text/plain": [
              "<Figure size 432x288 with 1 Axes>"
            ]
          },
          "metadata": {
            "tags": [],
            "needs_background": "light"
          }
        },
        {
          "output_type": "display_data",
          "data": {
            "text/plain": [
              "<Figure size 432x288 with 0 Axes>"
            ]
          },
          "metadata": {
            "tags": []
          }
        }
      ]
    },
    {
      "cell_type": "code",
      "metadata": {
        "id": "49WRB24YUqBD"
      },
      "source": [
        "model.save('/content/drive/MyDrive/CNN/inception_model_20_epochs_2.h5')"
      ],
      "execution_count": null,
      "outputs": []
    },
    {
      "cell_type": "code",
      "metadata": {
        "id": "I3PspPPTUPhf"
      },
      "source": [
        "# Creating a label file of test data\n",
        "\n",
        "import cv2\n",
        "def picture_separation(folder):\n",
        "  '''divide the mixed pictures into NORMAL and PNEUMONIA & add labels to these'''\n",
        "  X = []\n",
        "  y = []\n",
        "  image_list = []\n",
        "\n",
        "  for foldername in os.listdir(folder):\n",
        "    if not foldername.startswith('.'):\n",
        "      if foldername == \"NORMAL\":\n",
        "        label = 0\n",
        "      elif foldername == \"PNEUMONIA\":\n",
        "        label = 1\n",
        "      else:\n",
        "        label = 2\n",
        "      \n",
        "      for image_filename in os.listdir(folder + \"/\"+ foldername):\n",
        "        img_file = cv2.imread(folder + \"/\" + foldername + '/' + image_filename,1)\n",
        "        if img_file is not None:\n",
        "          img = cv2.resize(img_file,(256,256))\n",
        "          img_arr = img_to_array(img) / 255\n",
        "          X.append(img_arr)\n",
        "          y.append(label)\n",
        "          image_list.append(foldername + '/' + image_filename)\n",
        "                                        \n",
        "  X = np.asarray(X)\n",
        "  y = np.asarray(y)\n",
        "    \n",
        "  return X, y, image_list"
      ],
      "execution_count": 3,
      "outputs": []
    },
    {
      "cell_type": "code",
      "metadata": {
        "colab": {
          "base_uri": "https://localhost:8080/",
          "height": 198
        },
        "id": "QLMQFHa2UV13",
        "outputId": "caff70be-39fb-4464-a750-33480f8e1d9b"
      },
      "source": [
        "# get test dataset with labels\n",
        "X_test, y_test, img_test = picture_separation('/content/drive/MyDrive/CNN/Data/test')\n",
        "\n",
        "test_df = pd.DataFrame(img_test, columns = [\"images\"])\n",
        "test_df[\"target\"] = y_test\n",
        "\n",
        "#preview\n",
        "test_df.head()"
      ],
      "execution_count": 7,
      "outputs": [
        {
          "output_type": "execute_result",
          "data": {
            "text/html": [
              "<div>\n",
              "<style scoped>\n",
              "    .dataframe tbody tr th:only-of-type {\n",
              "        vertical-align: middle;\n",
              "    }\n",
              "\n",
              "    .dataframe tbody tr th {\n",
              "        vertical-align: top;\n",
              "    }\n",
              "\n",
              "    .dataframe thead th {\n",
              "        text-align: right;\n",
              "    }\n",
              "</style>\n",
              "<table border=\"1\" class=\"dataframe\">\n",
              "  <thead>\n",
              "    <tr style=\"text-align: right;\">\n",
              "      <th></th>\n",
              "      <th>images</th>\n",
              "      <th>target</th>\n",
              "    </tr>\n",
              "  </thead>\n",
              "  <tbody>\n",
              "    <tr>\n",
              "      <th>0</th>\n",
              "      <td>PNEUMONIA/person101_bacteria_484.jpeg</td>\n",
              "      <td>1</td>\n",
              "    </tr>\n",
              "    <tr>\n",
              "      <th>1</th>\n",
              "      <td>PNEUMONIA/person100_bacteria_475.jpeg</td>\n",
              "      <td>1</td>\n",
              "    </tr>\n",
              "    <tr>\n",
              "      <th>2</th>\n",
              "      <td>PNEUMONIA/person100_bacteria_480.jpeg</td>\n",
              "      <td>1</td>\n",
              "    </tr>\n",
              "    <tr>\n",
              "      <th>3</th>\n",
              "      <td>PNEUMONIA/person100_bacteria_481.jpeg</td>\n",
              "      <td>1</td>\n",
              "    </tr>\n",
              "    <tr>\n",
              "      <th>4</th>\n",
              "      <td>PNEUMONIA/person100_bacteria_477.jpeg</td>\n",
              "      <td>1</td>\n",
              "    </tr>\n",
              "  </tbody>\n",
              "</table>\n",
              "</div>"
            ],
            "text/plain": [
              "                                  images  target\n",
              "0  PNEUMONIA/person101_bacteria_484.jpeg       1\n",
              "1  PNEUMONIA/person100_bacteria_475.jpeg       1\n",
              "2  PNEUMONIA/person100_bacteria_480.jpeg       1\n",
              "3  PNEUMONIA/person100_bacteria_481.jpeg       1\n",
              "4  PNEUMONIA/person100_bacteria_477.jpeg       1"
            ]
          },
          "metadata": {
            "tags": []
          },
          "execution_count": 7
        }
      ]
    },
    {
      "cell_type": "code",
      "metadata": {
        "id": "1V1Vrg3sUZPh"
      },
      "source": [
        "# Load Model\n",
        "model = keras.models.load_model('/content/drive/MyDrive/CNN/inception_model_20_epochs_2.h5')"
      ],
      "execution_count": 8,
      "outputs": []
    },
    {
      "cell_type": "code",
      "metadata": {
        "colab": {
          "base_uri": "https://localhost:8080/"
        },
        "id": "gjLV7IXVUgoa",
        "outputId": "5f15fcc1-ccb6-451d-b40f-b1553aa57c61"
      },
      "source": [
        "from sklearn.metrics import accuracy_score, confusion_matrix, plot_confusion_matrix\n",
        "\n",
        "#make prediction\n",
        "yhat_test = model.predict_classes(X_test)\n",
        "\n",
        "#get confusion matrix\n",
        "cm = confusion_matrix(y_test, yhat_test)\n",
        "print(cm)"
      ],
      "execution_count": 9,
      "outputs": [
        {
          "output_type": "stream",
          "text": [
            "/usr/local/lib/python3.7/dist-packages/tensorflow/python/keras/engine/sequential.py:450: UserWarning: `model.predict_classes()` is deprecated and will be removed after 2021-01-01. Please use instead:* `np.argmax(model.predict(x), axis=-1)`,   if your model does multi-class classification   (e.g. if it uses a `softmax` last-layer activation).* `(model.predict(x) > 0.5).astype(\"int32\")`,   if your model does binary classification   (e.g. if it uses a `sigmoid` last-layer activation).\n",
            "  warnings.warn('`model.predict_classes()` is deprecated and '\n"
          ],
          "name": "stderr"
        },
        {
          "output_type": "stream",
          "text": [
            "[[166  68]\n",
            " [  5 385]]\n"
          ],
          "name": "stdout"
        }
      ]
    },
    {
      "cell_type": "code",
      "metadata": {
        "id": "kDqv-gFQUjki"
      },
      "source": [
        "# Visualize Confusion Matrix\n",
        "\n",
        "import itertools\n",
        "def plot_confusion_matrix(cm, classes,\n",
        "                          normalize = False,\n",
        "                          title = 'Confusion matrix',\n",
        "                          cmap = plt.cm.Blues):\n",
        "    \n",
        "    plt.figure(figsize = (6,6))\n",
        "    plt.imshow(cm, interpolation = 'nearest', cmap = cmap)\n",
        "    plt.title(title)\n",
        "    plt.colorbar()\n",
        "    plt.grid(b = None)\n",
        "    tick_marks = np.arange(len(classes))\n",
        "    plt.xticks(tick_marks, classes, rotation = 90)\n",
        "    plt.yticks(tick_marks, classes)\n",
        "    if normalize:\n",
        "        cm = cm.astype('float') / cm.sum(axis = 1)[:, np.newaxis]\n",
        "\n",
        "    thresh = cm.max() / 2.\n",
        "    cm = np.round(cm,2)\n",
        "    for i, j in itertools.product(range(cm.shape[0]), range(cm.shape[1])):\n",
        "        plt.text(j, i, cm[i, j],\n",
        "                 fontsize = 12,\n",
        "                 horizontalalignment = \"center\",\n",
        "                 color = \"white\" if cm[i, j] > thresh else \"black\")\n",
        "    plt.tight_layout()\n",
        "    plt.ylabel('True label')\n",
        "    plt.xlabel('Predicted label')\n",
        "    plt.show()"
      ],
      "execution_count": 10,
      "outputs": []
    },
    {
      "cell_type": "code",
      "metadata": {
        "colab": {
          "base_uri": "https://localhost:8080/",
          "height": 440
        },
        "id": "ZR4LqL0iUmEy",
        "outputId": "7c92343d-ace6-488d-9644-b83f5b54565a"
      },
      "source": [
        "#plot confustion matrix\n",
        "plot_confusion_matrix(cm, classes = ['NORMAL (Class 0)','PNEUMONIA (Class 1)'], normalize = False)"
      ],
      "execution_count": 11,
      "outputs": [
        {
          "output_type": "display_data",
          "data": {
            "image/png": "[encoded data removed]",
            "text/plain": [
              "<Figure size 432x432 with 2 Axes>"
            ]
          },
          "metadata": {
            "tags": [],
            "needs_background": "light"
          }
        }
      ]
    },
    {
      "cell_type": "code",
      "metadata": {
        "colab": {
          "base_uri": "https://localhost:8080/"
        },
        "id": "F0STkZl1VliS",
        "outputId": "e4e12e9c-1da4-4f0f-bd5b-88c29edea3df"
      },
      "source": [
        "# Classification report to evaluate other metrics\n",
        "\n",
        "from sklearn.metrics import classification_report\n",
        "\n",
        "print('INCEPTION NET Architecture', '\\n', classification_report(y_test, yhat_test, target_names = ['NORMAL (Class 0)','PNEUMONIA (Class 1)']))"
      ],
      "execution_count": 12,
      "outputs": [
        {
          "output_type": "stream",
          "text": [
            "INCEPTION NET Architecture \n",
            "                      precision    recall  f1-score   support\n",
            "\n",
            "   NORMAL (Class 0)       0.97      0.71      0.82       234\n",
            "PNEUMONIA (Class 1)       0.85      0.99      0.91       390\n",
            "\n",
            "           accuracy                           0.88       624\n",
            "          macro avg       0.91      0.85      0.87       624\n",
            "       weighted avg       0.90      0.88      0.88       624\n",
            "\n"
          ],
          "name": "stdout"
        }
      ]
    },
    {
      "cell_type": "code",
      "metadata": {
        "colab": {
          "base_uri": "https://localhost:8080/",
          "height": 368
        },
        "id": "q4GQ8V_8VqhE",
        "outputId": "599f05c1-22c3-44f9-ccaf-69f9e1a92c4d"
      },
      "source": [
        "# ROC and AUC curve to evaluate model\n",
        "\n",
        "from sklearn.metrics import auc,roc_curve,roc_auc_score\n",
        "\n",
        "fpr, tpr, thresholds = roc_curve(y_test, yhat_test)\n",
        "auc = roc_auc_score(y_test, yhat_test)\n",
        "print('AUC:', auc)\n",
        "\n",
        "plt.figure(figsize = (10, 5))\n",
        "plt.plot(fpr, tpr, color = 'yellow', label = 'ROC curve (area = %f)' % auc)\n",
        "plt.plot([0, 1], [0, 1], linestyle = '--', color = 'darkgreen')\n",
        "plt.xlim([-0.1, 1.0])\n",
        "plt.ylim([0.0, 1.05])\n",
        "plt.xlabel('False Positive Rate')\n",
        "plt.ylabel('True Positive Rate')\n",
        "plt.title('INCEPTION NET model X-ray Pneumonia Classification')\n",
        "plt.legend(loc = \"lower right\")\n",
        "plt.show()"
      ],
      "execution_count": 13,
      "outputs": [
        {
          "output_type": "stream",
          "text": [
            "AUC: 0.8482905982905982\n"
          ],
          "name": "stdout"
        },
        {
          "output_type": "display_data",
          "data": {
            "image/png": "[encoded data removed]",
            "text/plain": [
              "<Figure size 720x360 with 1 Axes>"
            ]
          },
          "metadata": {
            "tags": [],
            "needs_background": "light"
          }
        }
      ]
    },
    {
      "cell_type": "code",
      "metadata": {
        "colab": {
          "base_uri": "https://localhost:8080/"
        },
        "id": "YwFiwzNTVxAN",
        "outputId": "e31a310a-c241-4577-d496-6897f1743e5b"
      },
      "source": [
        "# Testing image\n",
        "\n",
        "import numpy as np\n",
        "from keras.preprocessing import image\n",
        "path3 = '/content/drive/MyDrive/CNN/Data/val/NORMAL/NORMAL2-IM-1442-0001.jpeg'\n",
        "test_image = image.load_img(path3, target_size = (256, 256))\n",
        "test_image = image.img_to_array(test_image)\n",
        "test_image = np.expand_dims(test_image, axis = 0)\n",
        "result = model.predict(test_image)\n",
        "training_set.class_indices\n",
        "if result[0][0] == 1:\n",
        "    prediction = 'PNEUMONIA'\n",
        "    print(prediction)\n",
        "else:\n",
        "    prediction = 'NORMAL'\n",
        "    print(prediction)"
      ],
      "execution_count": 16,
      "outputs": [
        {
          "output_type": "stream",
          "text": [
            "NORMAL\n"
          ],
          "name": "stdout"
        }
      ]
    },
    {
      "cell_type": "code",
      "metadata": {
        "id": "BwmvU-MXYui6"
      },
      "source": [
        ""
      ],
      "execution_count": null,
      "outputs": []
    }
  ]
}