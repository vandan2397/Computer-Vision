{
  "nbformat": 4,
  "nbformat_minor": 0,
  "metadata": {
    "colab": {
      "name": "ReNet_Architecture.ipynb",
      "provenance": [],
      "collapsed_sections": []
    },
    "kernelspec": {
      "name": "python3",
      "display_name": "Python 3"
    },
    "language_info": {
      "name": "python"
    },
    "accelerator": "GPU"
  },
  "cells": [
    {
      "cell_type": "markdown",
      "metadata": {
        "id": "Ebuw82PN_JjV"
      },
      "source": [
        "<h1> Pnuemonia Detection using ResNeT Architecture"
      ]
    },
    {
      "cell_type": "code",
      "metadata": {
        "id": "Zz1B71Yq1vGA"
      },
      "source": [
        "# Import Libraries\n",
        "\n",
        "from keras.layers import Input, Lambda, Dense, Flatten\n",
        "from keras.models import Model\n",
        "import keras\n",
        "from tensorflow.keras.applications.resnet50 import ResNet50, preprocess_input\n",
        "from keras.preprocessing import image\n",
        "from keras.preprocessing.image import ImageDataGenerator\n",
        "from keras.preprocessing.image import img_to_array\n",
        "from keras.layers import BatchNormalization\n",
        "from keras.layers import GlobalAveragePooling2D\n",
        "from keras.models import Sequential\n",
        "import numpy as np\n",
        "import os\n",
        "import pandas as pd\n",
        "\n",
        "from glob import glob\n",
        "from keras.layers import Dropout\n",
        "import matplotlib.pyplot as plt"
      ],
      "execution_count": 2,
      "outputs": []
    },
    {
      "cell_type": "code",
      "metadata": {
        "colab": {
          "base_uri": "https://localhost:8080/"
        },
        "id": "fB19TojE32gW",
        "outputId": "c32b2dd6-d38c-4026-e988-f62a92ce8268"
      },
      "source": [
        "# Mount drive\n",
        "from google.colab import drive\n",
        "drive.mount('/content/drive')"
      ],
      "execution_count": 3,
      "outputs": [
        {
          "output_type": "stream",
          "text": [
            "Mounted at /content/drive\n"
          ],
          "name": "stdout"
        }
      ]
    },
    {
      "cell_type": "code",
      "metadata": {
        "colab": {
          "base_uri": "https://localhost:8080/"
        },
        "id": "vH_n61k_3ONH",
        "outputId": "22fd88d3-2fdd-4e17-e516-30d6c7fb0f24"
      },
      "source": [
        "resnet_model = ResNet50(weights='imagenet', include_top=False, input_shape=(256, 256, 3))"
      ],
      "execution_count": null,
      "outputs": [
        {
          "output_type": "stream",
          "text": [
            "Downloading data from https://storage.googleapis.com/tensorflow/keras-applications/resnet/resnet50_weights_tf_dim_ordering_tf_kernels_notop.h5\n",
            "94773248/94765736 [==============================] - 2s 0us/step\n"
          ],
          "name": "stdout"
        }
      ]
    },
    {
      "cell_type": "code",
      "metadata": {
        "id": "wga_OXRj3R-L"
      },
      "source": [
        "# Making layers not trainable\n",
        "for layer in resnet_model.layers:\n",
        "    if isinstance(layer, BatchNormalization):\n",
        "        layer.trainable = True\n",
        "    else:\n",
        "        layer.trainable = False"
      ],
      "execution_count": null,
      "outputs": []
    },
    {
      "cell_type": "code",
      "metadata": {
        "id": "oE5ybET99WkX"
      },
      "source": [
        "\n",
        "model = Sequential()\n",
        "model.add(resnet_model)\n",
        "model.add(GlobalAveragePooling2D())\n",
        "model.add(Dense(256, activation='relu'))\n",
        "model.add(Dropout(.25))\n",
        "model.add(BatchNormalization())\n",
        "model.add(Flatten())\n",
        "model.add(Dense(2, activation='softmax'))"
      ],
      "execution_count": null,
      "outputs": []
    },
    {
      "cell_type": "code",
      "metadata": {
        "id": "Sn50P7Am3hqr"
      },
      "source": [
        "# tell the model what cost and optimization method to use\n",
        "model.compile(\n",
        "  loss='categorical_crossentropy',\n",
        "  optimizer='adam',\n",
        "  metrics=['accuracy']\n",
        ")"
      ],
      "execution_count": null,
      "outputs": []
    },
    {
      "cell_type": "code",
      "metadata": {
        "colab": {
          "base_uri": "https://localhost:8080/"
        },
        "id": "jtUGZW01J5C6",
        "outputId": "7e8f9a91-6d27-45bf-f33b-0706ae64baa9"
      },
      "source": [
        "model.summary()"
      ],
      "execution_count": null,
      "outputs": [
        {
          "output_type": "stream",
          "text": [
            "Model: \"sequential\"\n",
            "_________________________________________________________________\n",
            "Layer (type)                 Output Shape              Param #   \n",
            "=================================================================\n",
            "resnet50 (Functional)        (None, 8, 8, 2048)        23587712  \n",
            "_________________________________________________________________\n",
            "global_average_pooling2d (Gl (None, 2048)              0         \n",
            "_________________________________________________________________\n",
            "dense (Dense)                (None, 256)               524544    \n",
            "_________________________________________________________________\n",
            "dropout (Dropout)            (None, 256)               0         \n",
            "_________________________________________________________________\n",
            "batch_normalization (BatchNo (None, 256)               1024      \n",
            "_________________________________________________________________\n",
            "flatten (Flatten)            (None, 256)               0         \n",
            "_________________________________________________________________\n",
            "dense_1 (Dense)              (None, 2)                 514       \n",
            "=================================================================\n",
            "Total params: 24,113,794\n",
            "Trainable params: 578,690\n",
            "Non-trainable params: 23,535,104\n",
            "_________________________________________________________________\n"
          ],
          "name": "stdout"
        }
      ]
    },
    {
      "cell_type": "code",
      "metadata": {
        "id": "hOFB1UewOI6R"
      },
      "source": [
        "#Add checkpoints \n",
        "from keras.callbacks import ModelCheckpoint, EarlyStopping\n",
        "#filepath='saved_models/models.h5'\n",
        "#filepath=\"saved_models/weights-improvement-{epoch:02d}-{val_acc:.2f}.hdf5\" #File name includes epoch and validation accuracy.\n",
        "filepath=\"/content/drive/MyDrive/Deep Learning/Pnuemonia Detection Project/Best_model_resnet.hdf5\" #File name includes epoch and validation accuracy.\n",
        "\n",
        "checkpoint = ModelCheckpoint(filepath, monitor='val_acc', verbose=1, save_best_only=True, mode='max')\n",
        "\n",
        "#early_stop = EarlyStopping(monitor='val_loss',patience=5,verbose=1)\n",
        "\n",
        "callbacks_list = [checkpoint]"
      ],
      "execution_count": null,
      "outputs": []
    },
    {
      "cell_type": "code",
      "metadata": {
        "colab": {
          "base_uri": "https://localhost:8080/"
        },
        "id": "55FfZjT53oM_",
        "outputId": "37a05346-34ef-4924-a9f7-1ae68acb0e94"
      },
      "source": [
        "# Fitting the CNN to the images\n",
        "\n",
        "from keras.preprocessing.image import ImageDataGenerator\n",
        "\n",
        "# Generating train and test Dataset\n",
        "train_datagen = ImageDataGenerator(rescale = 1./255,shear_range = 0.2,\n",
        "                                   zoom_range = 0.2,\n",
        "                                   horizontal_flip = True)\n",
        "test_datagen = ImageDataGenerator(rescale = 1./255)\n",
        "\n",
        "# File path\n",
        "path1 = '/content/drive/MyDrive/CNN/Data/train'\n",
        "path2 = '/content/drive/MyDrive/CNN/Data/test'\n",
        "\n",
        "# Procesing images before training \n",
        "training_set = train_datagen.flow_from_directory(path1,\n",
        "                                                 target_size = (256, 256),\n",
        "                                                 batch_size =32 ,\n",
        "                                                 class_mode = 'categorical')\n",
        "\n",
        "test_set = test_datagen.flow_from_directory(path2,\n",
        "                                            target_size = (256, 256),\n",
        "                                            batch_size = 32,\n",
        "                                            class_mode = 'categorical')"
      ],
      "execution_count": 19,
      "outputs": [
        {
          "output_type": "stream",
          "text": [
            "Found 5216 images belonging to 2 classes.\n",
            "Found 624 images belonging to 2 classes.\n"
          ],
          "name": "stdout"
        }
      ]
    },
    {
      "cell_type": "code",
      "metadata": {
        "id": "WqDBqYktFU9O",
        "colab": {
          "base_uri": "https://localhost:8080/"
        },
        "outputId": "00af6c5e-61a5-4235-feb6-24214f085893"
      },
      "source": [
        "# Model Fit\n",
        "history = model.fit_generator(training_set,\n",
        "                         steps_per_epoch = 163,\n",
        "                         epochs = 20,\n",
        "                         validation_data = test_set,    \n",
        "                         validation_steps = 19)"
      ],
      "execution_count": null,
      "outputs": [
        {
          "output_type": "stream",
          "text": [
            "/usr/local/lib/python3.7/dist-packages/tensorflow/python/keras/engine/training.py:1844: UserWarning: `Model.fit_generator` is deprecated and will be removed in a future version. Please use `Model.fit`, which supports generators.\n",
            "  warnings.warn('`Model.fit_generator` is deprecated and '\n"
          ],
          "name": "stderr"
        },
        {
          "output_type": "stream",
          "text": [
            "Epoch 1/20\n",
            "163/163 [==============================] - 180s 1s/step - loss: 0.1002 - accuracy: 0.9672 - val_loss: 0.2571 - val_accuracy: 0.9293\n",
            "Epoch 2/20\n",
            "163/163 [==============================] - 179s 1s/step - loss: 0.0570 - accuracy: 0.9787 - val_loss: 0.3547 - val_accuracy: 0.9128\n",
            "Epoch 3/20\n",
            "163/163 [==============================] - 178s 1s/step - loss: 0.0530 - accuracy: 0.9804 - val_loss: 0.3375 - val_accuracy: 0.9079\n",
            "Epoch 4/20\n",
            "163/163 [==============================] - 177s 1s/step - loss: 0.0507 - accuracy: 0.9816 - val_loss: 0.2474 - val_accuracy: 0.9243\n",
            "Epoch 5/20\n",
            "163/163 [==============================] - 177s 1s/step - loss: 0.0530 - accuracy: 0.9831 - val_loss: 0.2796 - val_accuracy: 0.9112\n",
            "Epoch 6/20\n",
            "163/163 [==============================] - 179s 1s/step - loss: 0.0504 - accuracy: 0.9833 - val_loss: 0.2907 - val_accuracy: 0.9112\n",
            "Epoch 7/20\n",
            "163/163 [==============================] - 178s 1s/step - loss: 0.0394 - accuracy: 0.9854 - val_loss: 0.3558 - val_accuracy: 0.9030\n",
            "Epoch 8/20\n",
            "163/163 [==============================] - 179s 1s/step - loss: 0.0450 - accuracy: 0.9866 - val_loss: 0.3556 - val_accuracy: 0.8997\n",
            "Epoch 9/20\n",
            "163/163 [==============================] - 182s 1s/step - loss: 0.0472 - accuracy: 0.9831 - val_loss: 0.3753 - val_accuracy: 0.9030\n",
            "Epoch 10/20\n",
            "163/163 [==============================] - 182s 1s/step - loss: 0.0322 - accuracy: 0.9891 - val_loss: 0.3534 - val_accuracy: 0.9046\n",
            "Epoch 11/20\n",
            "163/163 [==============================] - 183s 1s/step - loss: 0.0310 - accuracy: 0.9875 - val_loss: 0.4178 - val_accuracy: 0.8947\n",
            "Epoch 12/20\n",
            "163/163 [==============================] - 182s 1s/step - loss: 0.0411 - accuracy: 0.9845 - val_loss: 0.3026 - val_accuracy: 0.9079\n",
            "Epoch 13/20\n",
            "163/163 [==============================] - 182s 1s/step - loss: 0.0343 - accuracy: 0.9887 - val_loss: 0.2821 - val_accuracy: 0.9194\n",
            "Epoch 14/20\n",
            "163/163 [==============================] - 183s 1s/step - loss: 0.0395 - accuracy: 0.9858 - val_loss: 0.3461 - val_accuracy: 0.9145\n",
            "Epoch 15/20\n",
            "163/163 [==============================] - 183s 1s/step - loss: 0.0234 - accuracy: 0.9908 - val_loss: 0.4945 - val_accuracy: 0.8964\n",
            "Epoch 16/20\n",
            "163/163 [==============================] - 180s 1s/step - loss: 0.0247 - accuracy: 0.9918 - val_loss: 0.3359 - val_accuracy: 0.9243\n",
            "Epoch 17/20\n",
            "163/163 [==============================] - 180s 1s/step - loss: 0.0299 - accuracy: 0.9893 - val_loss: 0.3939 - val_accuracy: 0.9046\n",
            "Epoch 18/20\n",
            "163/163 [==============================] - 178s 1s/step - loss: 0.0265 - accuracy: 0.9898 - val_loss: 0.4203 - val_accuracy: 0.9030\n",
            "Epoch 19/20\n",
            "163/163 [==============================] - 179s 1s/step - loss: 0.0286 - accuracy: 0.9906 - val_loss: 0.3885 - val_accuracy: 0.9079\n",
            "Epoch 20/20\n",
            "163/163 [==============================] - 177s 1s/step - loss: 0.0226 - accuracy: 0.9910 - val_loss: 0.4591 - val_accuracy: 0.9046\n"
          ],
          "name": "stdout"
        }
      ]
    },
    {
      "cell_type": "code",
      "metadata": {
        "colab": {
          "base_uri": "https://localhost:8080/",
          "height": 283
        },
        "id": "3_sqAmtOFdQY",
        "outputId": "ce735813-18c2-4410-fe71-802cf4aff7f9"
      },
      "source": [
        "# plot the loss\n",
        "plt.plot(history.history['loss'], label='train loss')\n",
        "plt.plot(history.history['val_loss'], label='val loss')\n",
        "plt.legend()\n",
        "plt.show()\n",
        "plt.savefig('/content/drive/MyDrive/CNN/LossVal_loss_resnet_20_eps_3')"
      ],
      "execution_count": null,
      "outputs": [
        {
          "output_type": "display_data",
          "data": {
            "image/png": "[encoded data removed]",
            "text/plain": [
              "<Figure size 432x288 with 1 Axes>"
            ]
          },
          "metadata": {
            "tags": [],
            "needs_background": "light"
          }
        },
        {
          "output_type": "display_data",
          "data": {
            "text/plain": [
              "<Figure size 432x288 with 0 Axes>"
            ]
          },
          "metadata": {
            "tags": []
          }
        }
      ]
    },
    {
      "cell_type": "code",
      "metadata": {
        "colab": {
          "base_uri": "https://localhost:8080/",
          "height": 283
        },
        "id": "pH3hKjIKFgIU",
        "outputId": "b781e68d-b4e1-4943-a896-60dba478a347"
      },
      "source": [
        "# plot the accuracy\n",
        "plt.plot(history.history['accuracy'], label='train acc')\n",
        "plt.plot(history.history['val_accuracy'], label='val acc')\n",
        "plt.legend()\n",
        "plt.show()\n",
        "plt.savefig('/content/drive/MyDrive/CNN/AccVal_acc_renset_20_eps_3')"
      ],
      "execution_count": null,
      "outputs": [
        {
          "output_type": "display_data",
          "data": {
            "image/png": "[encoded data removed]",
            "text/plain": [
              "<Figure size 432x288 with 1 Axes>"
            ]
          },
          "metadata": {
            "tags": [],
            "needs_background": "light"
          }
        },
        {
          "output_type": "display_data",
          "data": {
            "text/plain": [
              "<Figure size 432x288 with 0 Axes>"
            ]
          },
          "metadata": {
            "tags": []
          }
        }
      ]
    },
    {
      "cell_type": "code",
      "metadata": {
        "id": "tw-fpH-4FiBu"
      },
      "source": [
        "model.save('/content/drive/MyDrive/CNN/resnet_model_20_epochs_3.h5')"
      ],
      "execution_count": null,
      "outputs": []
    },
    {
      "cell_type": "code",
      "metadata": {
        "id": "ktikZUjpFpuS"
      },
      "source": [
        "# Creating a label file of test data\n",
        "\n",
        "import cv2\n",
        "def picture_separation(folder):\n",
        "  '''divide the mixed pictures into NORMAL and PNEUMONIA & add labels to these'''\n",
        "  X = []\n",
        "  y = []\n",
        "  image_list = []\n",
        "\n",
        "  for foldername in os.listdir(folder):\n",
        "    if not foldername.startswith('.'):\n",
        "      if foldername == \"NORMAL\":\n",
        "        label = 0\n",
        "      elif foldername == \"PNEUMONIA\":\n",
        "        label = 1\n",
        "      else:\n",
        "        label = 2\n",
        "      \n",
        "      for image_filename in os.listdir(folder + \"/\"+ foldername):\n",
        "        img_file = cv2.imread(folder + \"/\" + foldername + '/' + image_filename,1)\n",
        "        if img_file is not None:\n",
        "          img = cv2.resize(img_file,(256,256))\n",
        "          img_arr = img_to_array(img) / 255\n",
        "          X.append(img_arr)\n",
        "          y.append(label)\n",
        "          image_list.append(foldername + '/' + image_filename)\n",
        "                                        \n",
        "  X = np.asarray(X)\n",
        "  y = np.asarray(y)\n",
        "    \n",
        "  return X, y, image_list"
      ],
      "execution_count": 4,
      "outputs": []
    },
    {
      "cell_type": "code",
      "metadata": {
        "colab": {
          "base_uri": "https://localhost:8080/",
          "height": 198
        },
        "id": "9gvAYbeGOFGL",
        "outputId": "a4ecff92-d6bf-4732-ab0a-c212bdb93727"
      },
      "source": [
        "# get test dataset with labels\n",
        "X_test, y_test, img_test = picture_separation('/content/drive/MyDrive/CNN/Data/test')\n",
        "\n",
        "test_df = pd.DataFrame(img_test, columns = [\"images\"])\n",
        "test_df[\"target\"] = y_test\n",
        "\n",
        "#preview\n",
        "test_df.head()"
      ],
      "execution_count": 5,
      "outputs": [
        {
          "output_type": "execute_result",
          "data": {
            "text/html": [
              "<div>\n",
              "<style scoped>\n",
              "    .dataframe tbody tr th:only-of-type {\n",
              "        vertical-align: middle;\n",
              "    }\n",
              "\n",
              "    .dataframe tbody tr th {\n",
              "        vertical-align: top;\n",
              "    }\n",
              "\n",
              "    .dataframe thead th {\n",
              "        text-align: right;\n",
              "    }\n",
              "</style>\n",
              "<table border=\"1\" class=\"dataframe\">\n",
              "  <thead>\n",
              "    <tr style=\"text-align: right;\">\n",
              "      <th></th>\n",
              "      <th>images</th>\n",
              "      <th>target</th>\n",
              "    </tr>\n",
              "  </thead>\n",
              "  <tbody>\n",
              "    <tr>\n",
              "      <th>0</th>\n",
              "      <td>PNEUMONIA/person101_bacteria_484.jpeg</td>\n",
              "      <td>1</td>\n",
              "    </tr>\n",
              "    <tr>\n",
              "      <th>1</th>\n",
              "      <td>PNEUMONIA/person100_bacteria_475.jpeg</td>\n",
              "      <td>1</td>\n",
              "    </tr>\n",
              "    <tr>\n",
              "      <th>2</th>\n",
              "      <td>PNEUMONIA/person100_bacteria_480.jpeg</td>\n",
              "      <td>1</td>\n",
              "    </tr>\n",
              "    <tr>\n",
              "      <th>3</th>\n",
              "      <td>PNEUMONIA/person100_bacteria_481.jpeg</td>\n",
              "      <td>1</td>\n",
              "    </tr>\n",
              "    <tr>\n",
              "      <th>4</th>\n",
              "      <td>PNEUMONIA/person100_bacteria_477.jpeg</td>\n",
              "      <td>1</td>\n",
              "    </tr>\n",
              "  </tbody>\n",
              "</table>\n",
              "</div>"
            ],
            "text/plain": [
              "                                  images  target\n",
              "0  PNEUMONIA/person101_bacteria_484.jpeg       1\n",
              "1  PNEUMONIA/person100_bacteria_475.jpeg       1\n",
              "2  PNEUMONIA/person100_bacteria_480.jpeg       1\n",
              "3  PNEUMONIA/person100_bacteria_481.jpeg       1\n",
              "4  PNEUMONIA/person100_bacteria_477.jpeg       1"
            ]
          },
          "metadata": {
            "tags": []
          },
          "execution_count": 5
        }
      ]
    },
    {
      "cell_type": "code",
      "metadata": {
        "id": "ftCv5C_ZOOF1"
      },
      "source": [
        "# Load Model\n",
        "model = keras.models.load_model('/content/drive/MyDrive/CNN/resnet_model_20_epochs_3.h5')"
      ],
      "execution_count": 6,
      "outputs": []
    },
    {
      "cell_type": "code",
      "metadata": {
        "colab": {
          "base_uri": "https://localhost:8080/"
        },
        "id": "oExLejG3OU6f",
        "outputId": "0209bcb0-0ed7-4ee7-f3b4-4736e7c6a1c5"
      },
      "source": [
        "from sklearn.metrics import accuracy_score, confusion_matrix, plot_confusion_matrix\n",
        "\n",
        "#make prediction\n",
        "yhat_test = model.predict_classes(X_test)\n",
        "\n",
        "#get confusion matrix\n",
        "cm = confusion_matrix(y_test, yhat_test)\n",
        "print(cm)"
      ],
      "execution_count": 7,
      "outputs": [
        {
          "output_type": "stream",
          "text": [
            "/usr/local/lib/python3.7/dist-packages/tensorflow/python/keras/engine/sequential.py:450: UserWarning: `model.predict_classes()` is deprecated and will be removed after 2021-01-01. Please use instead:* `np.argmax(model.predict(x), axis=-1)`,   if your model does multi-class classification   (e.g. if it uses a `softmax` last-layer activation).* `(model.predict(x) > 0.5).astype(\"int32\")`,   if your model does binary classification   (e.g. if it uses a `sigmoid` last-layer activation).\n",
            "  warnings.warn('`model.predict_classes()` is deprecated and '\n"
          ],
          "name": "stderr"
        },
        {
          "output_type": "stream",
          "text": [
            "[[173  61]\n",
            " [  4 386]]\n"
          ],
          "name": "stdout"
        }
      ]
    },
    {
      "cell_type": "code",
      "metadata": {
        "id": "w22w-vd8OcUb"
      },
      "source": [
        "# Visualize Confusion Matrix\n",
        "\n",
        "import itertools\n",
        "def plot_confusion_matrix(cm, classes,\n",
        "                          normalize = False,\n",
        "                          title = 'Confusion matrix',\n",
        "                          cmap = plt.cm.Blues):\n",
        "    \n",
        "    plt.figure(figsize = (6,6))\n",
        "    plt.imshow(cm, interpolation = 'nearest', cmap = cmap)\n",
        "    plt.title(title)\n",
        "    plt.colorbar()\n",
        "    plt.grid(b = None)\n",
        "    tick_marks = np.arange(len(classes))\n",
        "    plt.xticks(tick_marks, classes, rotation = 90)\n",
        "    plt.yticks(tick_marks, classes)\n",
        "    if normalize:\n",
        "        cm = cm.astype('float') / cm.sum(axis = 1)[:, np.newaxis]\n",
        "\n",
        "    thresh = cm.max() / 2.\n",
        "    cm = np.round(cm,2)\n",
        "    for i, j in itertools.product(range(cm.shape[0]), range(cm.shape[1])):\n",
        "        plt.text(j, i, cm[i, j],\n",
        "                 fontsize = 12,\n",
        "                 horizontalalignment = \"center\",\n",
        "                 color = \"white\" if cm[i, j] > thresh else \"black\")\n",
        "    plt.tight_layout()\n",
        "    plt.ylabel('True label')\n",
        "    plt.xlabel('Predicted label')\n",
        "    plt.show()"
      ],
      "execution_count": 8,
      "outputs": []
    },
    {
      "cell_type": "code",
      "metadata": {
        "colab": {
          "base_uri": "https://localhost:8080/",
          "height": 440
        },
        "id": "WgtA8o18OlQ_",
        "outputId": "2d33bb76-1022-4896-abaa-83cbe799ba34"
      },
      "source": [
        "#plot confustion matrix\n",
        "plot_confusion_matrix(cm, classes = ['NORMAL (Class 0)','PNEUMONIA (Class 1)'], normalize = False)"
      ],
      "execution_count": 9,
      "outputs": [
        {
          "output_type": "display_data",
          "data": {
            "image/png": "[encoded data removed]",
            "text/plain": [
              "<Figure size 432x432 with 2 Axes>"
            ]
          },
          "metadata": {
            "tags": [],
            "needs_background": "light"
          }
        }
      ]
    },
    {
      "cell_type": "code",
      "metadata": {
        "colab": {
          "base_uri": "https://localhost:8080/"
        },
        "id": "IrFc45G3Orfz",
        "outputId": "48b28cf7-ae0b-47cb-cb54-94478a7ebfe6"
      },
      "source": [
        "# Classification report to evaluate other metrics\n",
        "\n",
        "from sklearn.metrics import classification_report\n",
        "\n",
        "print('RESNET50 Architecture', '\\n', classification_report(y_test, yhat_test, target_names = ['NORMAL (Class 0)','PNEUMONIA (Class 1)']))"
      ],
      "execution_count": 10,
      "outputs": [
        {
          "output_type": "stream",
          "text": [
            "RESNET50 Architecture \n",
            "                      precision    recall  f1-score   support\n",
            "\n",
            "   NORMAL (Class 0)       0.98      0.74      0.84       234\n",
            "PNEUMONIA (Class 1)       0.86      0.99      0.92       390\n",
            "\n",
            "           accuracy                           0.90       624\n",
            "          macro avg       0.92      0.86      0.88       624\n",
            "       weighted avg       0.91      0.90      0.89       624\n",
            "\n"
          ],
          "name": "stdout"
        }
      ]
    },
    {
      "cell_type": "code",
      "metadata": {
        "colab": {
          "base_uri": "https://localhost:8080/",
          "height": 368
        },
        "id": "RfqKzb6EOxCo",
        "outputId": "d730c5ee-bcf4-4df4-8779-8e6e5859da3c"
      },
      "source": [
        "# ROC and AUC curve to evaluate model\n",
        "\n",
        "from sklearn.metrics import auc,roc_curve,roc_auc_score\n",
        "\n",
        "fpr, tpr, thresholds = roc_curve(y_test, yhat_test)\n",
        "auc = roc_auc_score(y_test, yhat_test)\n",
        "print('AUC:', auc)\n",
        "\n",
        "plt.figure(figsize = (10, 5))\n",
        "plt.plot(fpr, tpr, color = 'yellow', label = 'ROC curve (area = %f)' % auc)\n",
        "plt.plot([0, 1], [0, 1], linestyle = '--', color = 'darkgreen')\n",
        "plt.xlim([-0.1, 1.0])\n",
        "plt.ylim([0.0, 1.05])\n",
        "plt.xlabel('False Positive Rate')\n",
        "plt.ylabel('True Positive Rate')\n",
        "plt.title('RESNET50 model X-ray Pneumonia Classification')\n",
        "plt.legend(loc = \"lower right\")\n",
        "plt.show()"
      ],
      "execution_count": 11,
      "outputs": [
        {
          "output_type": "stream",
          "text": [
            "AUC: 0.8645299145299146\n"
          ],
          "name": "stdout"
        },
        {
          "output_type": "display_data",
          "data": {
            "image/png": "[encoded data removed]",
            "text/plain": [
              "<Figure size 720x360 with 1 Axes>"
            ]
          },
          "metadata": {
            "tags": [],
            "needs_background": "light"
          }
        }
      ]
    },
    {
      "cell_type": "code",
      "metadata": {
        "id": "6YILDu89O2Ab"
      },
      "source": [
        "# Testing image\n",
        "\n",
        "import numpy as np\n",
        "from keras.preprocessing import image\n",
        "path3 = '/content/drive/MyDrive/CNN/Data/val/NORMAL/NORMAL2-IM-1442-0001.jpeg'\n",
        "test_image = image.load_img(path3, target_size = (256, 256))\n",
        "test_image = image.img_to_array(test_image)\n",
        "test_image = np.expand_dims(test_image, axis = 0)\n",
        "result = model.predict(test_image)\n",
        "training_set.class_indices\n",
        "if result[0][0] == 1:\n",
        "    prediction = 'PNEUMONIA'\n",
        "    print(prediction)\n",
        "else:\n",
        "    prediction = 'NORMAL'\n",
        "    print(prediction)"
      ],
      "execution_count": null,
      "outputs": []
    },
    {
      "cell_type": "markdown",
      "metadata": {
        "id": "nOt2etmJRfr4"
      },
      "source": [
        "<h3><b>Model has same performance as basic model. Hence, RESNET could not give better results."
      ]
    }
  ]
}