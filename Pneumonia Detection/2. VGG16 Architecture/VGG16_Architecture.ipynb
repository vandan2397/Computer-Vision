{
  "nbformat": 4,
  "nbformat_minor": 0,
  "metadata": {
    "colab": {
      "name": "VGG16 Architecture.ipynb",
      "provenance": [],
      "collapsed_sections": []
    },
    "kernelspec": {
      "name": "python3",
      "display_name": "Python 3"
    },
    "language_info": {
      "name": "python"
    },
    "accelerator": "GPU"
  },
  "cells": [
    {
      "cell_type": "markdown",
      "metadata": {
        "id": "Ebuw82PN_JjV"
      },
      "source": [
        "<h1> Pnuemonia Detection using VGG16 Architecture"
      ]
    },
    {
      "cell_type": "code",
      "metadata": {
        "id": "Zz1B71Yq1vGA"
      },
      "source": [
        "# Import Libraries\n",
        "\n",
        "from keras.layers import Input, Lambda, Dense, Flatten\n",
        "from keras.models import Model\n",
        "#from keras.applications.resnet50 import ResNet50\n",
        "from keras.applications.vgg16 import VGG16\n",
        "from keras.applications.vgg16 import preprocess_input\n",
        "from keras.preprocessing import image\n",
        "from keras.preprocessing.image import ImageDataGenerator\n",
        "from keras.preprocessing.image import img_to_array\n",
        "from keras.models import Sequential\n",
        "import numpy as np\n",
        "import keras\n",
        "from glob import glob\n",
        "import os\n",
        "import pandas as pd\n",
        "from keras.layers import Dropout\n",
        "import matplotlib.pyplot as plt"
      ],
      "execution_count": 13,
      "outputs": []
    },
    {
      "cell_type": "code",
      "metadata": {
        "colab": {
          "base_uri": "https://localhost:8080/"
        },
        "id": "fB19TojE32gW",
        "outputId": "033d88fb-3d16-4afd-c606-94f8e8a07f8a"
      },
      "source": [
        "# Mount drive\n",
        "from google.colab import drive\n",
        "drive.mount('/content/drive')"
      ],
      "execution_count": 3,
      "outputs": [
        {
          "output_type": "stream",
          "text": [
            "Mounted at /content/drive\n"
          ],
          "name": "stdout"
        }
      ]
    },
    {
      "cell_type": "code",
      "metadata": {
        "id": "GkKB_1LJ3KIw"
      },
      "source": [
        "# re-size all the images to this\n",
        "IMAGE_SIZE = [224, 224]"
      ],
      "execution_count": null,
      "outputs": []
    },
    {
      "cell_type": "code",
      "metadata": {
        "colab": {
          "base_uri": "https://localhost:8080/"
        },
        "id": "vH_n61k_3ONH",
        "outputId": "7c031b6c-f6bc-4ba3-b90b-9d80386a32ba"
      },
      "source": [
        "vgg = VGG16(input_shape=IMAGE_SIZE + [3], weights='imagenet', include_top=False)"
      ],
      "execution_count": null,
      "outputs": [
        {
          "output_type": "stream",
          "text": [
            "Downloading data from https://storage.googleapis.com/tensorflow/keras-applications/vgg16/vgg16_weights_tf_dim_ordering_tf_kernels_notop.h5\n",
            "58892288/58889256 [==============================] - 1s 0us/step\n"
          ],
          "name": "stdout"
        }
      ]
    },
    {
      "cell_type": "code",
      "metadata": {
        "id": "wga_OXRj3R-L"
      },
      "source": [
        "\n",
        "# don't train existing weights\n",
        "for layer in vgg.layers:\n",
        "    layer.trainable = False"
      ],
      "execution_count": null,
      "outputs": []
    },
    {
      "cell_type": "code",
      "metadata": {
        "colab": {
          "base_uri": "https://localhost:8080/"
        },
        "id": "oE5ybET99WkX",
        "outputId": "85b2baa5-5040-473d-bf7e-e72b0e0dfe3c"
      },
      "source": [
        "\n",
        "model = Sequential()\n",
        "\n",
        "model.add(vgg)\n",
        "\n",
        "#fully connected layer\n",
        "model.add(Flatten())\n",
        "\n",
        "model.add(Dense(4096))\n",
        "model.add(Dropout(0.5))\n",
        "\n",
        "\n",
        "model.add(Dense(4096))\n",
        "model.add(Dropout(0.5))\n",
        "\n",
        "model.add(Dense(2, activation = 'softmax'))\n",
        "\n",
        "model.summary()"
      ],
      "execution_count": null,
      "outputs": [
        {
          "output_type": "stream",
          "text": [
            "Model: \"sequential\"\n",
            "_________________________________________________________________\n",
            "Layer (type)                 Output Shape              Param #   \n",
            "=================================================================\n",
            "vgg16 (Functional)           (None, 7, 7, 512)         14714688  \n",
            "_________________________________________________________________\n",
            "flatten (Flatten)            (None, 25088)             0         \n",
            "_________________________________________________________________\n",
            "dense (Dense)                (None, 4096)              102764544 \n",
            "_________________________________________________________________\n",
            "dropout (Dropout)            (None, 4096)              0         \n",
            "_________________________________________________________________\n",
            "dense_1 (Dense)              (None, 4096)              16781312  \n",
            "_________________________________________________________________\n",
            "dropout_1 (Dropout)          (None, 4096)              0         \n",
            "_________________________________________________________________\n",
            "dense_2 (Dense)              (None, 2)                 8194      \n",
            "=================================================================\n",
            "Total params: 134,268,738\n",
            "Trainable params: 119,554,050\n",
            "Non-trainable params: 14,714,688\n",
            "_________________________________________________________________\n"
          ],
          "name": "stdout"
        }
      ]
    },
    {
      "cell_type": "code",
      "metadata": {
        "id": "Sn50P7Am3hqr"
      },
      "source": [
        "# Compile model\n",
        "model.compile(\n",
        "  loss='categorical_crossentropy',\n",
        "  optimizer='adam',\n",
        "  metrics=['accuracy']\n",
        ")"
      ],
      "execution_count": null,
      "outputs": []
    },
    {
      "cell_type": "code",
      "metadata": {
        "id": "hOFB1UewOI6R"
      },
      "source": [
        "#Add checkpoints \n",
        "from keras.callbacks import ModelCheckpoint, EarlyStopping\n",
        "#filepath='saved_models/models.h5'\n",
        "#filepath=\"saved_models/weights-improvement-{epoch:02d}-{val_acc:.2f}.hdf5\" #File name includes epoch and validation accuracy.\n",
        "filepath=\"/content/drive/MyDrive/Deep Learning/Pnuemonia Detection Project/Best_model_Vgg16.hdf5\" #File name includes epoch and validation accuracy.\n",
        "\n",
        "checkpoint = ModelCheckpoint(filepath, monitor='val_acc', verbose=1, save_best_only=True, mode='max')\n",
        "\n",
        "#early_stop = EarlyStopping(monitor='val_loss',patience=5,verbose=1)\n",
        "\n",
        "callbacks_list = [checkpoint]"
      ],
      "execution_count": null,
      "outputs": []
    },
    {
      "cell_type": "code",
      "metadata": {
        "colab": {
          "base_uri": "https://localhost:8080/"
        },
        "id": "55FfZjT53oM_",
        "outputId": "9da91513-daa2-4840-e727-d99ef1e417a4"
      },
      "source": [
        "# Fitting the CNN to the images\n",
        "\n",
        "from keras.preprocessing.image import ImageDataGenerator\n",
        "\n",
        "# Generating train and test Dataset\n",
        "train_datagen = ImageDataGenerator(rescale = 1./255,shear_range = 0.2,\n",
        "                                   zoom_range = 0.2,\n",
        "                                   horizontal_flip = True)\n",
        "test_datagen = ImageDataGenerator(rescale = 1./255)\n",
        "\n",
        "# File path\n",
        "path1 = '/content/drive/MyDrive/Deep Learning/Pnuemonia Detection Project/Data/train'\n",
        "path2 = '/content/drive/MyDrive/Deep Learning/Pnuemonia Detection Project/Data/test'\n",
        "\n",
        "# Procesing images before training \n",
        "training_set = train_datagen.flow_from_directory(path1,\n",
        "                                                 target_size = (224, 224),\n",
        "                                                 batch_size =32 ,\n",
        "                                                 class_mode = 'categorical')\n",
        "\n",
        "test_set = test_datagen.flow_from_directory(path2,\n",
        "                                            target_size = (224, 224),\n",
        "                                            batch_size = 32,\n",
        "                                            class_mode = 'categorical')"
      ],
      "execution_count": 26,
      "outputs": [
        {
          "output_type": "stream",
          "text": [
            "Found 5216 images belonging to 2 classes.\n",
            "Found 624 images belonging to 2 classes.\n"
          ],
          "name": "stdout"
        }
      ]
    },
    {
      "cell_type": "code",
      "metadata": {
        "colab": {
          "base_uri": "https://localhost:8080/"
        },
        "id": "EXGlgRKS4HXy",
        "outputId": "d1e44ba8-46b3-44df-aa2d-247d12ce727a"
      },
      "source": [
        "# Model Fit\n",
        "history = model.fit_generator(training_set,\n",
        "                         steps_per_epoch = 163,\n",
        "                         epochs = 20,\n",
        "                         validation_data = test_set,    \n",
        "                         validation_steps = 19,callbacks=callbacks_list)"
      ],
      "execution_count": null,
      "outputs": [
        {
          "output_type": "stream",
          "text": [
            "/usr/local/lib/python3.7/dist-packages/tensorflow/python/keras/engine/training.py:1844: UserWarning: `Model.fit_generator` is deprecated and will be removed in a future version. Please use `Model.fit`, which supports generators.\n",
            "  warnings.warn('`Model.fit_generator` is deprecated and '\n"
          ],
          "name": "stderr"
        },
        {
          "output_type": "stream",
          "text": [
            "Epoch 1/20\n",
            "163/163 [==============================] - 1687s 10s/step - loss: 93.8000 - accuracy: 0.7688 - val_loss: 2.6051 - val_accuracy: 0.8487\n",
            "WARNING:tensorflow:Can save best model only with val_acc available, skipping.\n",
            "Epoch 2/20\n",
            "163/163 [==============================] - 110s 677ms/step - loss: 1.3149 - accuracy: 0.9170 - val_loss: 2.4181 - val_accuracy: 0.8882\n",
            "WARNING:tensorflow:Can save best model only with val_acc available, skipping.\n",
            "Epoch 3/20\n",
            "163/163 [==============================] - 110s 678ms/step - loss: 0.7275 - accuracy: 0.9330 - val_loss: 1.2965 - val_accuracy: 0.9095\n",
            "WARNING:tensorflow:Can save best model only with val_acc available, skipping.\n",
            "Epoch 4/20\n",
            "163/163 [==============================] - 108s 662ms/step - loss: 0.6393 - accuracy: 0.9464 - val_loss: 3.9065 - val_accuracy: 0.8602\n",
            "WARNING:tensorflow:Can save best model only with val_acc available, skipping.\n",
            "Epoch 5/20\n",
            "163/163 [==============================] - 108s 659ms/step - loss: 0.5498 - accuracy: 0.9479 - val_loss: 1.7638 - val_accuracy: 0.9062\n",
            "WARNING:tensorflow:Can save best model only with val_acc available, skipping.\n",
            "Epoch 6/20\n",
            "163/163 [==============================] - 107s 657ms/step - loss: 0.4859 - accuracy: 0.9495 - val_loss: 1.6679 - val_accuracy: 0.8980\n",
            "WARNING:tensorflow:Can save best model only with val_acc available, skipping.\n",
            "Epoch 7/20\n",
            "163/163 [==============================] - 107s 653ms/step - loss: 0.4838 - accuracy: 0.9521 - val_loss: 1.7423 - val_accuracy: 0.9161\n",
            "WARNING:tensorflow:Can save best model only with val_acc available, skipping.\n",
            "Epoch 8/20\n",
            "163/163 [==============================] - 106s 648ms/step - loss: 0.8260 - accuracy: 0.9469 - val_loss: 3.4194 - val_accuracy: 0.9178\n",
            "WARNING:tensorflow:Can save best model only with val_acc available, skipping.\n",
            "Epoch 9/20\n",
            "163/163 [==============================] - 106s 649ms/step - loss: 8.7864 - accuracy: 0.9228 - val_loss: 267.5153 - val_accuracy: 0.8766\n",
            "WARNING:tensorflow:Can save best model only with val_acc available, skipping.\n",
            "Epoch 10/20\n",
            "163/163 [==============================] - 106s 649ms/step - loss: 256.5143 - accuracy: 0.8968 - val_loss: 201.8114 - val_accuracy: 0.9062\n",
            "WARNING:tensorflow:Can save best model only with val_acc available, skipping.\n",
            "Epoch 11/20\n",
            "163/163 [==============================] - 105s 642ms/step - loss: 37.0726 - accuracy: 0.9482 - val_loss: 27.3787 - val_accuracy: 0.9211\n",
            "WARNING:tensorflow:Can save best model only with val_acc available, skipping.\n",
            "Epoch 12/20\n",
            "163/163 [==============================] - 105s 643ms/step - loss: 19.7153 - accuracy: 0.9487 - val_loss: 36.3686 - val_accuracy: 0.9178\n",
            "WARNING:tensorflow:Can save best model only with val_acc available, skipping.\n",
            "Epoch 13/20\n",
            "163/163 [==============================] - 105s 645ms/step - loss: 11.4395 - accuracy: 0.9531 - val_loss: 65.1984 - val_accuracy: 0.8980\n",
            "WARNING:tensorflow:Can save best model only with val_acc available, skipping.\n",
            "Epoch 14/20\n",
            "163/163 [==============================] - 105s 644ms/step - loss: 11.7971 - accuracy: 0.9521 - val_loss: 87.1647 - val_accuracy: 0.8799\n",
            "WARNING:tensorflow:Can save best model only with val_acc available, skipping.\n",
            "Epoch 15/20\n",
            "163/163 [==============================] - 106s 652ms/step - loss: 9.6571 - accuracy: 0.9570 - val_loss: 37.1678 - val_accuracy: 0.8701\n",
            "WARNING:tensorflow:Can save best model only with val_acc available, skipping.\n",
            "Epoch 16/20\n",
            "163/163 [==============================] - 107s 656ms/step - loss: 6.0140 - accuracy: 0.9600 - val_loss: 22.5657 - val_accuracy: 0.9095\n",
            "WARNING:tensorflow:Can save best model only with val_acc available, skipping.\n",
            "Epoch 17/20\n",
            "163/163 [==============================] - 107s 657ms/step - loss: 6.2721 - accuracy: 0.9561 - val_loss: 9.4731 - val_accuracy: 0.9211\n",
            "WARNING:tensorflow:Can save best model only with val_acc available, skipping.\n",
            "Epoch 18/20\n",
            "163/163 [==============================] - 107s 656ms/step - loss: 5.5238 - accuracy: 0.9578 - val_loss: 11.5861 - val_accuracy: 0.9326\n",
            "WARNING:tensorflow:Can save best model only with val_acc available, skipping.\n",
            "Epoch 19/20\n",
            "163/163 [==============================] - 107s 654ms/step - loss: 8.5614 - accuracy: 0.9521 - val_loss: 8.7922 - val_accuracy: 0.8997\n",
            "WARNING:tensorflow:Can save best model only with val_acc available, skipping.\n",
            "Epoch 20/20\n",
            "163/163 [==============================] - 107s 656ms/step - loss: 7.8572 - accuracy: 0.9601 - val_loss: 20.9079 - val_accuracy: 0.9145\n",
            "WARNING:tensorflow:Can save best model only with val_acc available, skipping.\n"
          ],
          "name": "stdout"
        }
      ]
    },
    {
      "cell_type": "code",
      "metadata": {
        "colab": {
          "base_uri": "https://localhost:8080/",
          "height": 283
        },
        "id": "d-blb-Ze4Y6H",
        "outputId": "bf466433-4d06-4bd5-9ca1-65d953b78058"
      },
      "source": [
        "# plot the loss\n",
        "plt.plot(history.history['loss'], label='train loss')\n",
        "plt.plot(history.history['val_loss'], label='val loss')\n",
        "plt.legend()\n",
        "plt.show()\n",
        "plt.savefig('/content/drive/MyDrive/Deep Learning/Pnuemonia Detection Project/LossVal_loss_Vgg16')"
      ],
      "execution_count": null,
      "outputs": [
        {
          "output_type": "display_data",
          "data": {
            "image/png": "[encoded data removed]",
            "text/plain": [
              "<Figure size 432x288 with 1 Axes>"
            ]
          },
          "metadata": {
            "tags": [],
            "needs_background": "light"
          }
        },
        {
          "output_type": "display_data",
          "data": {
            "text/plain": [
              "<Figure size 432x288 with 0 Axes>"
            ]
          },
          "metadata": {
            "tags": []
          }
        }
      ]
    },
    {
      "cell_type": "code",
      "metadata": {
        "colab": {
          "base_uri": "https://localhost:8080/",
          "height": 283
        },
        "id": "O_tE4lql8N5z",
        "outputId": "06ffda76-b2ea-4793-8ad5-9533527497dc"
      },
      "source": [
        "# plot the accuracy\n",
        "plt.plot(history.history['accuracy'], label='train acc')\n",
        "plt.plot(history.history['val_accuracy'], label='val acc')\n",
        "plt.legend()\n",
        "plt.show()\n",
        "plt.savefig('/content/drive/MyDrive/Deep Learning/Pnuemonia Detection Project/AccVal_acc_vgg16')"
      ],
      "execution_count": null,
      "outputs": [
        {
          "output_type": "display_data",
          "data": {
            "image/png": "[encoded data removed]",
            "text/plain": [
              "<Figure size 432x288 with 1 Axes>"
            ]
          },
          "metadata": {
            "tags": [],
            "needs_background": "light"
          }
        },
        {
          "output_type": "display_data",
          "data": {
            "text/plain": [
              "<Figure size 432x288 with 0 Axes>"
            ]
          },
          "metadata": {
            "tags": []
          }
        }
      ]
    },
    {
      "cell_type": "code",
      "metadata": {
        "id": "LblnkSLiXg6J"
      },
      "source": [
        "# Save Model\n",
        "model.save('/content/drive/MyDrive/Deep Learning/Pnuemonia Detection Project/vgg16_model.h5')"
      ],
      "execution_count": null,
      "outputs": []
    },
    {
      "cell_type": "code",
      "metadata": {
        "id": "9QLiU9VK2xsa"
      },
      "source": [
        "# Creating a label file of test data\n",
        "\n",
        "import cv2\n",
        "def picture_separation(folder):\n",
        "  '''divide the mixed pictures into NORMAL and PNEUMONIA & add labels to these'''\n",
        "  X = []\n",
        "  y = []\n",
        "  image_list = []\n",
        "\n",
        "  for foldername in os.listdir(folder):\n",
        "    if not foldername.startswith('.'):\n",
        "      if foldername == \"NORMAL\":\n",
        "        label = 0\n",
        "      elif foldername == \"PNEUMONIA\":\n",
        "        label = 1\n",
        "      else:\n",
        "        label = 2\n",
        "      \n",
        "      for image_filename in os.listdir(folder + \"/\"+ foldername):\n",
        "        img_file = cv2.imread(folder + \"/\" + foldername + '/' + image_filename,1)\n",
        "        if img_file is not None:\n",
        "          img = cv2.resize(img_file,(224,224))\n",
        "          img_arr = img_to_array(img) / 255\n",
        "          X.append(img_arr)\n",
        "          y.append(label)\n",
        "          image_list.append(foldername + '/' + image_filename)\n",
        "                                        \n",
        "  X = np.asarray(X)\n",
        "  y = np.asarray(y)\n",
        "    \n",
        "  return X, y, image_list"
      ],
      "execution_count": 16,
      "outputs": []
    },
    {
      "cell_type": "code",
      "metadata": {
        "colab": {
          "base_uri": "https://localhost:8080/",
          "height": 198
        },
        "id": "-QvzEADA27vR",
        "outputId": "3528e153-3bde-4d86-eadc-a170c0e2570a"
      },
      "source": [
        "# get test dataset with labels\n",
        "X_test, y_test, img_test = picture_separation('/content/drive/MyDrive/Deep Learning/Pnuemonia Detection Project/Data/test/')\n",
        "\n",
        "test_df = pd.DataFrame(img_test, columns = [\"images\"])\n",
        "test_df[\"target\"] = y_test\n",
        "\n",
        "#preview\n",
        "test_df.head()"
      ],
      "execution_count": 17,
      "outputs": [
        {
          "output_type": "execute_result",
          "data": {
            "text/html": [
              "<div>\n",
              "<style scoped>\n",
              "    .dataframe tbody tr th:only-of-type {\n",
              "        vertical-align: middle;\n",
              "    }\n",
              "\n",
              "    .dataframe tbody tr th {\n",
              "        vertical-align: top;\n",
              "    }\n",
              "\n",
              "    .dataframe thead th {\n",
              "        text-align: right;\n",
              "    }\n",
              "</style>\n",
              "<table border=\"1\" class=\"dataframe\">\n",
              "  <thead>\n",
              "    <tr style=\"text-align: right;\">\n",
              "      <th></th>\n",
              "      <th>images</th>\n",
              "      <th>target</th>\n",
              "    </tr>\n",
              "  </thead>\n",
              "  <tbody>\n",
              "    <tr>\n",
              "      <th>0</th>\n",
              "      <td>PNEUMONIA/person100_bacteria_480.jpeg</td>\n",
              "      <td>1</td>\n",
              "    </tr>\n",
              "    <tr>\n",
              "      <th>1</th>\n",
              "      <td>PNEUMONIA/person100_bacteria_478.jpeg</td>\n",
              "      <td>1</td>\n",
              "    </tr>\n",
              "    <tr>\n",
              "      <th>2</th>\n",
              "      <td>PNEUMONIA/person101_bacteria_483.jpeg</td>\n",
              "      <td>1</td>\n",
              "    </tr>\n",
              "    <tr>\n",
              "      <th>3</th>\n",
              "      <td>PNEUMONIA/person100_bacteria_475.jpeg</td>\n",
              "      <td>1</td>\n",
              "    </tr>\n",
              "    <tr>\n",
              "      <th>4</th>\n",
              "      <td>PNEUMONIA/person100_bacteria_481.jpeg</td>\n",
              "      <td>1</td>\n",
              "    </tr>\n",
              "  </tbody>\n",
              "</table>\n",
              "</div>"
            ],
            "text/plain": [
              "                                  images  target\n",
              "0  PNEUMONIA/person100_bacteria_480.jpeg       1\n",
              "1  PNEUMONIA/person100_bacteria_478.jpeg       1\n",
              "2  PNEUMONIA/person101_bacteria_483.jpeg       1\n",
              "3  PNEUMONIA/person100_bacteria_475.jpeg       1\n",
              "4  PNEUMONIA/person100_bacteria_481.jpeg       1"
            ]
          },
          "metadata": {
            "tags": []
          },
          "execution_count": 17
        }
      ]
    },
    {
      "cell_type": "code",
      "metadata": {
        "id": "NywLxgPx3DIN"
      },
      "source": [
        "# Load Model\n",
        "model = keras.models.load_model('/content/drive/MyDrive/Deep Learning/Pnuemonia Detection Project/vgg16_model.h5')"
      ],
      "execution_count": 18,
      "outputs": []
    },
    {
      "cell_type": "code",
      "metadata": {
        "colab": {
          "base_uri": "https://localhost:8080/"
        },
        "id": "GS3bKnM23HXg",
        "outputId": "7e810c56-4ee7-458c-9d78-d19d36142ec5"
      },
      "source": [
        "from sklearn.metrics import accuracy_score, confusion_matrix, plot_confusion_matrix\n",
        "\n",
        "#make prediction\n",
        "yhat_test = model.predict_classes(X_test)\n",
        "\n",
        "#get confusion matrix\n",
        "cm = confusion_matrix(y_test, yhat_test)\n",
        "print(cm)"
      ],
      "execution_count": 19,
      "outputs": [
        {
          "output_type": "stream",
          "text": [
            "/usr/local/lib/python3.7/dist-packages/tensorflow/python/keras/engine/sequential.py:450: UserWarning: `model.predict_classes()` is deprecated and will be removed after 2021-01-01. Please use instead:* `np.argmax(model.predict(x), axis=-1)`,   if your model does multi-class classification   (e.g. if it uses a `softmax` last-layer activation).* `(model.predict(x) > 0.5).astype(\"int32\")`,   if your model does binary classification   (e.g. if it uses a `sigmoid` last-layer activation).\n",
            "  warnings.warn('`model.predict_classes()` is deprecated and '\n"
          ],
          "name": "stderr"
        },
        {
          "output_type": "stream",
          "text": [
            "[[205  29]\n",
            " [ 23 367]]\n"
          ],
          "name": "stdout"
        }
      ]
    },
    {
      "cell_type": "code",
      "metadata": {
        "id": "11ZaH3xQ3Mzq"
      },
      "source": [
        "# Visualize Confusion Matrix\n",
        "\n",
        "import itertools\n",
        "def plot_confusion_matrix(cm, classes,\n",
        "                          normalize = False,\n",
        "                          title = 'Confusion matrix',\n",
        "                          cmap = plt.cm.Blues):\n",
        "    \n",
        "    plt.figure(figsize = (6,6))\n",
        "    plt.imshow(cm, interpolation = 'nearest', cmap = cmap)\n",
        "    plt.title(title)\n",
        "    plt.colorbar()\n",
        "    plt.grid(b = None)\n",
        "    tick_marks = np.arange(len(classes))\n",
        "    plt.xticks(tick_marks, classes, rotation = 90)\n",
        "    plt.yticks(tick_marks, classes)\n",
        "    if normalize:\n",
        "        cm = cm.astype('float') / cm.sum(axis = 1)[:, np.newaxis]\n",
        "\n",
        "    thresh = cm.max() / 2.\n",
        "    cm = np.round(cm,2)\n",
        "    for i, j in itertools.product(range(cm.shape[0]), range(cm.shape[1])):\n",
        "        plt.text(j, i, cm[i, j],\n",
        "                 fontsize = 12,\n",
        "                 horizontalalignment = \"center\",\n",
        "                 color = \"white\" if cm[i, j] > thresh else \"black\")\n",
        "    plt.tight_layout()\n",
        "    plt.ylabel('True label')\n",
        "    plt.xlabel('Predicted label')\n",
        "    plt.show()"
      ],
      "execution_count": 20,
      "outputs": []
    },
    {
      "cell_type": "code",
      "metadata": {
        "colab": {
          "base_uri": "https://localhost:8080/",
          "height": 440
        },
        "id": "1u6Sneze3Qx-",
        "outputId": "e063f4b3-e612-406d-8f7d-2632269a6697"
      },
      "source": [
        "#plot confustion matrix\n",
        "plot_confusion_matrix(cm, classes = ['NORMAL (Class 0)','PNEUMONIA (Class 1)'], normalize = False)"
      ],
      "execution_count": 21,
      "outputs": [
        {
          "output_type": "display_data",
          "data": {
            "image/png": "[encoded data removed]",
            "text/plain": [
              "<Figure size 432x432 with 2 Axes>"
            ]
          },
          "metadata": {
            "tags": [],
            "needs_background": "light"
          }
        }
      ]
    },
    {
      "cell_type": "code",
      "metadata": {
        "colab": {
          "base_uri": "https://localhost:8080/"
        },
        "id": "OEnCJWeh3Vfj",
        "outputId": "52e0b9b6-590b-4778-851c-d57814fbd48c"
      },
      "source": [
        "# Classification report to evaluate other metrics\n",
        "\n",
        "from sklearn.metrics import classification_report\n",
        "\n",
        "print('VGG16 Architecture', '\\n', classification_report(y_test, yhat_test, target_names = ['NORMAL (Class 0)','PNEUMONIA (Class 1)']))"
      ],
      "execution_count": 34,
      "outputs": [
        {
          "output_type": "stream",
          "text": [
            "VGG16 Architecture \n",
            "                      precision    recall  f1-score   support\n",
            "\n",
            "   NORMAL (Class 0)       0.90      0.88      0.89       234\n",
            "PNEUMONIA (Class 1)       0.93      0.94      0.93       390\n",
            "\n",
            "           accuracy                           0.92       624\n",
            "          macro avg       0.91      0.91      0.91       624\n",
            "       weighted avg       0.92      0.92      0.92       624\n",
            "\n"
          ],
          "name": "stdout"
        }
      ]
    },
    {
      "cell_type": "code",
      "metadata": {
        "colab": {
          "base_uri": "https://localhost:8080/",
          "height": 368
        },
        "id": "NI3TNnNL3Z8k",
        "outputId": "4a5a6006-a742-427d-9b3f-9e79649ed1e9"
      },
      "source": [
        "# ROC and AUC curve to evaluate model\n",
        "\n",
        "from sklearn.metrics import auc,roc_curve,roc_auc_score\n",
        "\n",
        "fpr, tpr, thresholds = roc_curve(y_test, yhat_test)\n",
        "auc = roc_auc_score(y_test, yhat_test)\n",
        "print('AUC:', auc)\n",
        "\n",
        "plt.figure(figsize = (10, 5))\n",
        "plt.plot(fpr, tpr, color = 'yellow', label = 'ROC curve (area = %f)' % auc)\n",
        "plt.plot([0, 1], [0, 1], linestyle = '--', color = 'darkgreen')\n",
        "plt.xlim([-0.1, 1.0])\n",
        "plt.ylim([0.0, 1.05])\n",
        "plt.xlabel('False Positive Rate')\n",
        "plt.ylabel('True Positive Rate')\n",
        "plt.title('VGG16 model X-ray Pneumonia Classification')\n",
        "plt.legend(loc = \"lower right\")\n",
        "plt.show()"
      ],
      "execution_count": 33,
      "outputs": [
        {
          "output_type": "stream",
          "text": [
            "AUC: 0.9085470085470085\n"
          ],
          "name": "stdout"
        },
        {
          "output_type": "display_data",
          "data": {
            "image/png": "[encoded data removed]",
            "text/plain": [
              "<Figure size 720x360 with 1 Axes>"
            ]
          },
          "metadata": {
            "tags": [],
            "needs_background": "light"
          }
        }
      ]
    },
    {
      "cell_type": "code",
      "metadata": {
        "id": "WqDBqYktFU9O",
        "colab": {
          "base_uri": "https://localhost:8080/"
        },
        "outputId": "c6004c76-b104-4c73-b9b0-6b9d157c64ee"
      },
      "source": [
        "# Testing image\n",
        "\n",
        "import numpy as np\n",
        "from keras.preprocessing import image\n",
        "path3 = '/content/drive/MyDrive/Deep Learning/Pnuemonia Detection Project/Data/val/NORMAL/NORMAL2-IM-1442-0001.jpeg'\n",
        "test_image = image.load_img(path3, target_size = (224, 224))\n",
        "test_image = image.img_to_array(test_image)\n",
        "test_image = np.expand_dims(test_image, axis = 0)\n",
        "result = model.predict(test_image)\n",
        "training_set.class_indices\n",
        "if result[0][0] == 1:\n",
        "    prediction = 'PNEUMONIA'\n",
        "    print(prediction)\n",
        "else:\n",
        "    prediction = 'NORMAL'\n",
        "    print(prediction)"
      ],
      "execution_count": 32,
      "outputs": [
        {
          "output_type": "stream",
          "text": [
            "NORMAL\n"
          ],
          "name": "stdout"
        }
      ]
    },
    {
      "cell_type": "markdown",
      "metadata": {
        "id": "45RQWLEhJPOn"
      },
      "source": [
        "<h3><b>Model is performing better than basic model (recall increased to 89 and 93). There are less misclassifications than basic. However, we can try other transfer learning technique and check whether the performance increases or not. Next, I will be implementing RESNET architecture. "
      ]
    },
    {
      "cell_type": "code",
      "metadata": {
        "id": "JQQrf6iRRlIA"
      },
      "source": [
        ""
      ],
      "execution_count": null,
      "outputs": []
    }
  ]
}